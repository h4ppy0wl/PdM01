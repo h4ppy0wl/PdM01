{
 "cells": [
  {
   "cell_type": "markdown",
   "metadata": {},
   "source": [
    "# Bearings dataset EDA"
   ]
  },
  {
   "cell_type": "markdown",
   "metadata": {},
   "source": [
    "In this note book I investigate dataset charachtristics in the dataset. This is the 2nd step in CRISP-DM, \"data understanding\" and helps in model selection and analysis"
   ]
  },
  {
   "cell_type": "code",
   "execution_count": 76,
   "metadata": {},
   "outputs": [],
   "source": [
    "import numpy as np\n",
    "import pandas as pd\n",
    "import os\n",
    "import matplotlib.pyplot as plt"
   ]
  },
  {
   "cell_type": "code",
   "execution_count": 28,
   "metadata": {},
   "outputs": [],
   "source": [
    "data01_path = './Datasets/bearings01/NB.csv'\n",
    "data02_path = './Datasets/bearings01/IR - 7.csv'\n",
    "data03_path = './Datasets/bearings01/IR - 21.csv'\n",
    "data04_path = './Datasets/bearings01/OR - 7.csv'\n",
    "data05_path = './Datasets/bearings01/OR - 21.csv'"
   ]
  },
  {
   "cell_type": "markdown",
   "metadata": {},
   "source": [
    "While we have different fault classes, I use one-hot-encoding and create column for each class with the same name."
   ]
  },
  {
   "cell_type": "code",
   "execution_count": 30,
   "metadata": {},
   "outputs": [],
   "source": [
    "signal_columns = {'DriveEndAcc', 'FanEndAcc'}"
   ]
  },
  {
   "cell_type": "markdown",
   "metadata": {},
   "source": [
    "normal signal"
   ]
  },
  {
   "cell_type": "code",
   "execution_count": 31,
   "metadata": {},
   "outputs": [
    {
     "data": {
      "text/html": [
       "<div>\n",
       "<style scoped>\n",
       "    .dataframe tbody tr th:only-of-type {\n",
       "        vertical-align: middle;\n",
       "    }\n",
       "\n",
       "    .dataframe tbody tr th {\n",
       "        vertical-align: top;\n",
       "    }\n",
       "\n",
       "    .dataframe thead th {\n",
       "        text-align: right;\n",
       "    }\n",
       "</style>\n",
       "<table border=\"1\" class=\"dataframe\">\n",
       "  <thead>\n",
       "    <tr style=\"text-align: right;\">\n",
       "      <th></th>\n",
       "      <th>DE</th>\n",
       "      <th>FE</th>\n",
       "    </tr>\n",
       "  </thead>\n",
       "  <tbody>\n",
       "    <tr>\n",
       "      <th>0</th>\n",
       "      <td>0.064254</td>\n",
       "      <td>0.038625</td>\n",
       "    </tr>\n",
       "    <tr>\n",
       "      <th>1</th>\n",
       "      <td>0.063002</td>\n",
       "      <td>0.096769</td>\n",
       "    </tr>\n",
       "    <tr>\n",
       "      <th>2</th>\n",
       "      <td>-0.004381</td>\n",
       "      <td>0.127382</td>\n",
       "    </tr>\n",
       "    <tr>\n",
       "      <th>3</th>\n",
       "      <td>-0.035882</td>\n",
       "      <td>0.144640</td>\n",
       "    </tr>\n",
       "    <tr>\n",
       "      <th>4</th>\n",
       "      <td>-0.023991</td>\n",
       "      <td>0.086702</td>\n",
       "    </tr>\n",
       "  </tbody>\n",
       "</table>\n",
       "</div>"
      ],
      "text/plain": [
       "         DE        FE\n",
       "0  0.064254  0.038625\n",
       "1  0.063002  0.096769\n",
       "2 -0.004381  0.127382\n",
       "3 -0.035882  0.144640\n",
       "4 -0.023991  0.086702"
      ]
     },
     "execution_count": 31,
     "metadata": {},
     "output_type": "execute_result"
    }
   ],
   "source": [
    "df_normal = pd.read_csv(data01_path)\n",
    "df_normal.head()"
   ]
  },
  {
   "cell_type": "code",
   "execution_count": 32,
   "metadata": {},
   "outputs": [],
   "source": [
    "df_normal.columns = signal_columns\n",
    "# since we have two classes we can use 1 for faulti and -1 for normal labels and still prevent ordinal label bias.\n",
    "# however, one-hot-encoding is also an option which is usually used for more classes\n",
    "df_normal['fault'] = 0"
   ]
  },
  {
   "cell_type": "markdown",
   "metadata": {},
   "source": [
    "IR07 fault"
   ]
  },
  {
   "cell_type": "code",
   "execution_count": 33,
   "metadata": {},
   "outputs": [],
   "source": [
    "df_ir07 = pd.read_csv(data02_path)\n",
    "df_ir07.columns = signal_columns\n",
    "df_ir07['fault'] = 1"
   ]
  },
  {
   "cell_type": "code",
   "execution_count": 34,
   "metadata": {},
   "outputs": [],
   "source": [
    "df_ir21 = pd.read_csv(data03_path)\n",
    "df_ir21.columns = signal_columns\n",
    "df_ir21['fault'] = 2"
   ]
  },
  {
   "cell_type": "code",
   "execution_count": 35,
   "metadata": {},
   "outputs": [],
   "source": [
    "df_or07 = pd.read_csv(data04_path)\n",
    "df_or07.columns = signal_columns\n",
    "df_or07['fault'] = 3"
   ]
  },
  {
   "cell_type": "code",
   "execution_count": 36,
   "metadata": {},
   "outputs": [],
   "source": [
    "df_or21 = pd.read_csv(data03_path)\n",
    "df_or21.columns = signal_columns\n",
    "df_or21['fault'] = 4"
   ]
  },
  {
   "cell_type": "code",
   "execution_count": null,
   "metadata": {},
   "outputs": [],
   "source": [
    "dataset = pd.concat([df_normal, df_ir07, df_ir21, df_or07, df_or21], ignore_index=True)"
   ]
  },
  {
   "cell_type": "markdown",
   "metadata": {},
   "source": [
    "## check stats and nulls"
   ]
  },
  {
   "cell_type": "code",
   "execution_count": 43,
   "metadata": {},
   "outputs": [
    {
     "name": "stdout",
     "output_type": "stream",
     "text": [
      "<class 'pandas.core.frame.DataFrame'>\n",
      "RangeIndex: 605775 entries, 0 to 605774\n",
      "Data columns (total 3 columns):\n",
      " #   Column       Non-Null Count   Dtype  \n",
      "---  ------       --------------   -----  \n",
      " 0   DriveEndAcc  605775 non-null  float64\n",
      " 1   FanEndAcc    605775 non-null  float64\n",
      " 2   fault        605775 non-null  int64  \n",
      "dtypes: float64(2), int64(1)\n",
      "memory usage: 13.9 MB\n",
      "None\n",
      "         DriveEndAcc      FanEndAcc          fault\n",
      "count  605775.000000  605775.000000  605775.000000\n",
      "mean        0.005423       0.032709       2.000000\n",
      "std         0.423496       0.182714       1.414215\n",
      "min        -3.124034      -0.949405       0.000000\n",
      "25%        -0.132791      -0.062664       1.000000\n",
      "50%         0.006676       0.031435       2.000000\n",
      "75%         0.132791       0.127382       3.000000\n",
      "max         3.623116       1.049873       4.000000\n",
      "num classes: 5\n"
     ]
    }
   ],
   "source": [
    "print(dataset.info())\n",
    "print(dataset.describe())\n",
    "print(f'num classes: {dataset['fault'].nunique()}')"
   ]
  },
  {
   "cell_type": "code",
   "execution_count": 44,
   "metadata": {},
   "outputs": [
    {
     "name": "stdout",
     "output_type": "stream",
     "text": [
      "class specific stats: \n",
      "      DriveEndAcc                               FanEndAcc                      \\\n",
      "             mean       std       min       max      mean       std       min   \n",
      "fault                                                                           \n",
      "0        0.011768  0.063400 -0.275998  0.359236  0.032724  0.065195 -0.213056   \n",
      "1        0.004557  0.299474 -1.425531  1.639620  0.033972  0.232675 -0.895782   \n",
      "2        0.003434  0.488680 -3.124034  3.623116  0.032252  0.170053 -0.832707   \n",
      "3        0.003920  0.570418 -3.082207  3.101293  0.032344  0.225159 -0.949405   \n",
      "4        0.003434  0.488680 -3.124034  3.623116  0.032252  0.170053 -0.832707   \n",
      "\n",
      "                 \n",
      "            max  \n",
      "fault            \n",
      "0      0.303867  \n",
      "1      0.957213  \n",
      "2      1.010836  \n",
      "3      1.049873  \n",
      "4      1.010836  \n"
     ]
    }
   ],
   "source": [
    "print('class specific stats: ')\n",
    "print(dataset.groupby('fault').agg(['mean', 'std', 'min', 'max']))"
   ]
  },
  {
   "cell_type": "markdown",
   "metadata": {},
   "source": [
    "## check duplicates"
   ]
  },
  {
   "cell_type": "markdown",
   "metadata": {},
   "source": [
    "**Should I Remove Duplicates in an Accelerometer-Based Bearing Fault Dataset?**\n",
    "\n",
    "***How Do Duplicates Arise?***\n",
    "\n",
    "*Steady-state signals:* If the system operates under stable conditions, some measurements might appear identical across consecutive timestamps.\n",
    "\n",
    "*Sensor precision limits:* If sensor resolution is limited, small changes might be rounded, leading to identical readings.\n",
    "\n",
    "*Sampling effects:* Data might be sampled at a high rate, leading to near-identical readings due to minimal change in vibration levels.\n",
    "\n",
    "*Data preprocessing issues:* If data has been preprocessed (e.g., resampled, interpolated, or aggregated), duplicates might appear.\n",
    "\n",
    "***Does Removing Duplicates Affect Fault Detection?***\n",
    "\n",
    "If your dataset is showing a trend, removing duplicates could be a bad move because:\n",
    "\n",
    "*Fault evolution might be gradual:* Removing duplicates could eliminate important information about how a fault develops over time.\n",
    "\n",
    "*Temporal relationships matter:* Vibration patterns in bearings often involve subtle changes over time, which duplicates may represent.\n",
    "\n",
    "*Pattern recognition models rely on time-series data:* If you plan to use Machine Learning (e.g., CNNs, LSTMs), removing duplicates could disrupt meaningful patterns.\n",
    "\n",
    "\n",
    "However, if duplicates do not provide new information (e.g., they arise from artifacts of data collection), then removing them might help reduce data size without losing useful signals."
   ]
  },
  {
   "cell_type": "code",
   "execution_count": 53,
   "metadata": {},
   "outputs": [
    {
     "name": "stdout",
     "output_type": "stream",
     "text": [
      "number of duplicates in the dataset:  10139\n"
     ]
    }
   ],
   "source": [
    "print('number of duplicates in the dataset: ', sum(dataset.duplicated()))"
   ]
  },
  {
   "cell_type": "code",
   "execution_count": 69,
   "metadata": {},
   "outputs": [
    {
     "data": {
      "text/html": [
       "<div>\n",
       "<style scoped>\n",
       "    .dataframe tbody tr th:only-of-type {\n",
       "        vertical-align: middle;\n",
       "    }\n",
       "\n",
       "    .dataframe tbody tr th {\n",
       "        vertical-align: top;\n",
       "    }\n",
       "\n",
       "    .dataframe thead th {\n",
       "        text-align: right;\n",
       "    }\n",
       "</style>\n",
       "<table border=\"1\" class=\"dataframe\">\n",
       "  <thead>\n",
       "    <tr style=\"text-align: right;\">\n",
       "      <th></th>\n",
       "      <th>DriveEndAcc</th>\n",
       "      <th>FanEndAcc</th>\n",
       "    </tr>\n",
       "    <tr>\n",
       "      <th>fault</th>\n",
       "      <th></th>\n",
       "      <th></th>\n",
       "    </tr>\n",
       "  </thead>\n",
       "  <tbody>\n",
       "    <tr>\n",
       "      <th>0</th>\n",
       "      <td>6519</td>\n",
       "      <td>6519</td>\n",
       "    </tr>\n",
       "    <tr>\n",
       "      <th>1</th>\n",
       "      <td>429</td>\n",
       "      <td>429</td>\n",
       "    </tr>\n",
       "    <tr>\n",
       "      <th>2</th>\n",
       "      <td>1435</td>\n",
       "      <td>1435</td>\n",
       "    </tr>\n",
       "    <tr>\n",
       "      <th>3</th>\n",
       "      <td>3225</td>\n",
       "      <td>3225</td>\n",
       "    </tr>\n",
       "    <tr>\n",
       "      <th>4</th>\n",
       "      <td>121155</td>\n",
       "      <td>121155</td>\n",
       "    </tr>\n",
       "  </tbody>\n",
       "</table>\n",
       "</div>"
      ],
      "text/plain": [
       "       DriveEndAcc  FanEndAcc\n",
       "fault                        \n",
       "0             6519       6519\n",
       "1              429        429\n",
       "2             1435       1435\n",
       "3             3225       3225\n",
       "4           121155     121155"
      ]
     },
     "execution_count": 69,
     "metadata": {},
     "output_type": "execute_result"
    }
   ],
   "source": [
    "dataset[dataset.duplicated(subset=signal_columns)].groupby('fault').count()"
   ]
  },
  {
   "cell_type": "code",
   "execution_count": 64,
   "metadata": {},
   "outputs": [
    {
     "data": {
      "text/html": [
       "<div>\n",
       "<style scoped>\n",
       "    .dataframe tbody tr th:only-of-type {\n",
       "        vertical-align: middle;\n",
       "    }\n",
       "\n",
       "    .dataframe tbody tr th {\n",
       "        vertical-align: top;\n",
       "    }\n",
       "\n",
       "    .dataframe thead th {\n",
       "        text-align: right;\n",
       "    }\n",
       "</style>\n",
       "<table border=\"1\" class=\"dataframe\">\n",
       "  <thead>\n",
       "    <tr style=\"text-align: right;\">\n",
       "      <th></th>\n",
       "      <th>DriveEndAcc</th>\n",
       "      <th>FanEndAcc</th>\n",
       "    </tr>\n",
       "    <tr>\n",
       "      <th>fault</th>\n",
       "      <th></th>\n",
       "      <th></th>\n",
       "    </tr>\n",
       "  </thead>\n",
       "  <tbody>\n",
       "    <tr>\n",
       "      <th>0</th>\n",
       "      <td>327</td>\n",
       "      <td>327</td>\n",
       "    </tr>\n",
       "    <tr>\n",
       "      <th>1</th>\n",
       "      <td>2</td>\n",
       "      <td>2</td>\n",
       "    </tr>\n",
       "    <tr>\n",
       "      <th>2</th>\n",
       "      <td>7</td>\n",
       "      <td>7</td>\n",
       "    </tr>\n",
       "    <tr>\n",
       "      <th>3</th>\n",
       "      <td>13</td>\n",
       "      <td>13</td>\n",
       "    </tr>\n",
       "    <tr>\n",
       "      <th>4</th>\n",
       "      <td>1106</td>\n",
       "      <td>1106</td>\n",
       "    </tr>\n",
       "  </tbody>\n",
       "</table>\n",
       "</div>"
      ],
      "text/plain": [
       "       DriveEndAcc  FanEndAcc\n",
       "fault                        \n",
       "0              327        327\n",
       "1                2          2\n",
       "2                7          7\n",
       "3               13         13\n",
       "4             1106       1106"
      ]
     },
     "execution_count": 64,
     "metadata": {},
     "output_type": "execute_result"
    }
   ],
   "source": [
    "just_duplicates = dataset[dataset.duplicated()]\n",
    "just_duplicates[just_duplicates.duplicated(subset=signal_columns)].groupby('fault').count()"
   ]
  },
  {
   "cell_type": "code",
   "execution_count": 65,
   "metadata": {},
   "outputs": [
    {
     "data": {
      "text/html": [
       "<div>\n",
       "<style scoped>\n",
       "    .dataframe tbody tr th:only-of-type {\n",
       "        vertical-align: middle;\n",
       "    }\n",
       "\n",
       "    .dataframe tbody tr th {\n",
       "        vertical-align: top;\n",
       "    }\n",
       "\n",
       "    .dataframe thead th {\n",
       "        text-align: right;\n",
       "    }\n",
       "</style>\n",
       "<table border=\"1\" class=\"dataframe\">\n",
       "  <thead>\n",
       "    <tr style=\"text-align: right;\">\n",
       "      <th></th>\n",
       "      <th>DriveEndAcc</th>\n",
       "      <th>FanEndAcc</th>\n",
       "    </tr>\n",
       "    <tr>\n",
       "      <th>fault</th>\n",
       "      <th></th>\n",
       "      <th></th>\n",
       "    </tr>\n",
       "  </thead>\n",
       "  <tbody>\n",
       "    <tr>\n",
       "      <th>0</th>\n",
       "      <td>6519</td>\n",
       "      <td>6519</td>\n",
       "    </tr>\n",
       "    <tr>\n",
       "      <th>1</th>\n",
       "      <td>422</td>\n",
       "      <td>422</td>\n",
       "    </tr>\n",
       "    <tr>\n",
       "      <th>2</th>\n",
       "      <td>1106</td>\n",
       "      <td>1106</td>\n",
       "    </tr>\n",
       "    <tr>\n",
       "      <th>3</th>\n",
       "      <td>986</td>\n",
       "      <td>986</td>\n",
       "    </tr>\n",
       "    <tr>\n",
       "      <th>4</th>\n",
       "      <td>1106</td>\n",
       "      <td>1106</td>\n",
       "    </tr>\n",
       "  </tbody>\n",
       "</table>\n",
       "</div>"
      ],
      "text/plain": [
       "       DriveEndAcc  FanEndAcc\n",
       "fault                        \n",
       "0             6519       6519\n",
       "1              422        422\n",
       "2             1106       1106\n",
       "3              986        986\n",
       "4             1106       1106"
      ]
     },
     "execution_count": 65,
     "metadata": {},
     "output_type": "execute_result"
    }
   ],
   "source": [
    "just_duplicates.groupby('fault').count()"
   ]
  },
  {
   "cell_type": "code",
   "execution_count": 87,
   "metadata": {},
   "outputs": [
    {
     "data": {
      "text/plain": [
       "[<matplotlib.lines.Line2D at 0x7f1680abf530>]"
      ]
     },
     "execution_count": 87,
     "metadata": {},
     "output_type": "execute_result"
    },
    {
     "data": {
      "image/png": "[encoded data removed]",
      "text/plain": [
       "<Figure size 1600x600 with 1 Axes>"
      ]
     },
     "metadata": {},
     "output_type": "display_data"
    }
   ],
   "source": [
    "plt.figure(figsize = (16,6))\n",
    "plt.plot(range(0, len(df_normal.iloc[:,0])), df_normal.iloc[:,1])\n"
   ]
  },
  {
   "cell_type": "code",
   "execution_count": null,
   "metadata": {},
   "outputs": [],
   "source": []
  }
 ],
 "metadata": {
  "kernelspec": {
   "display_name": "P3128_PdM01",
   "language": "python",
   "name": "python3"
  },
  "language_info": {
   "codemirror_mode": {
    "name": "ipython",
    "version": 3
   },
   "file_extension": ".py",
   "mimetype": "text/x-python",
   "name": "python",
   "nbconvert_exporter": "python",
   "pygments_lexer": "ipython3",
   "version": "3.12.8"
  }
 },
 "nbformat": 4,
 "nbformat_minor": 2
}
